{
  "nbformat": 4,
  "nbformat_minor": 0,
  "metadata": {
    "colab": {
      "name": "CMS_Higgs_plot.ipynb",
      "provenance": [],
      "authorship_tag": "ABX9TyOSVjHsmJdULMzbduNP7mNx",
      "include_colab_link": true
    },
    "kernelspec": {
      "name": "python3",
      "display_name": "Python 3"
    },
    "language_info": {
      "name": "python"
    }
  },
  "cells": [
    {
      "cell_type": "markdown",
      "metadata": {
        "id": "view-in-github",
        "colab_type": "text"
      },
      "source": [
        "<a href=\"https://colab.research.google.com/github/Scientistfly/Scientistfly.github.io/blob/master/CMS_Higgs_plot.ipynb\" target=\"_parent\"><img src=\"https://colab.research.google.com/assets/colab-badge.svg\" alt=\"Open In Colab\"/></a>"
      ]
    },
    {
      "cell_type": "markdown",
      "source": [
        "# CMS Data and Higgs plot"
      ],
      "metadata": {
        "id": "mo667agW2tuz"
      }
    },
    {
      "cell_type": "code",
      "source": [
        "import pandas as pd\n",
        "import numpy as np\n",
        "import matplotlib.pyplot as plt"
      ],
      "metadata": {
        "id": "12FCzkSbzrrC"
      },
      "execution_count": null,
      "outputs": []
    },
    {
      "cell_type": "code",
      "execution_count": null,
      "metadata": {
        "colab": {
          "resources": {
            "http://localhost:8080/nbextensions/google.colab/files.js": {
              "data": "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",
              "ok": true,
              "headers": [
                [
                  "content-type",
                  "application/javascript"
                ]
              ],
              "status": 200,
              "status_text": ""
            }
          },
          "base_uri": "https://localhost:8080/",
          "height": 74
        },
        "id": "fJXYffVCy6xJ",
        "outputId": "4929218e-2b55-42fc-dbb6-0a096fab5acc"
      },
      "outputs": [
        {
          "output_type": "display_data",
          "data": {
            "text/plain": [
              "<IPython.core.display.HTML object>"
            ],
            "text/html": [
              "\n",
              "     <input type=\"file\" id=\"files-458ac7b6-3d4a-4b29-9734-d5eddbfe4987\" name=\"files[]\" multiple disabled\n",
              "        style=\"border:none\" />\n",
              "     <output id=\"result-458ac7b6-3d4a-4b29-9734-d5eddbfe4987\">\n",
              "      Upload widget is only available when the cell has been executed in the\n",
              "      current browser session. Please rerun this cell to enable.\n",
              "      </output>\n",
              "      <script src=\"/nbextensions/google.colab/files.js\"></script> "
            ]
          },
          "metadata": {}
        },
        {
          "output_type": "stream",
          "name": "stdout",
          "text": [
            "Saving SMHiggsToZZTo4L.csv to SMHiggsToZZTo4L.csv\n"
          ]
        }
      ],
      "source": [
        "#Estos comandos sirven para subir el archivo en Google Colab\n",
        "from google.colab import files\n",
        "uploaded = files.upload()"
      ]
    },
    {
      "cell_type": "code",
      "source": [
        "#Se suben los datos en formato csv.\n",
        "datos_desde_csv = pd.read_csv('SMHiggsToZZTo4L.csv', index_col = [0,1])"
      ],
      "metadata": {
        "id": "APDwC6kX2NBa"
      },
      "execution_count": null,
      "outputs": []
    },
    {
      "cell_type": "markdown",
      "source": [
        "## Primera fase: Se filtran los eventos interesantes"
      ],
      "metadata": {
        "id": "w5QPbXbK3YXy"
      }
    },
    {
      "cell_type": "code",
      "source": [
        "#Se eligen los eventos que tiene 4 o más muones\n",
        "df_4mu = datos_desde_csv.loc[datos_desde_csv['nMuon'] >= 4]\n",
        "\n",
        "#Se busca que los datos tengan buen aislamiento\n",
        "df_iso_4mu = df_4mu.loc[np.abs(df_4mu['Muon_pfRelIso04_all']) < 0.4].copy()\n",
        "\n",
        "#Se busca que los datos esten cercanos al vértice principal y que tengan poca incertidumbre\n",
        "df_iso_4mu['Muon_ip3d'] = np.sqrt(np.power(df_iso_4mu['Muon_dxy'],2) + np.power(df_iso_4mu['Muon_dz'],2))\n",
        "df_iso_4mu['Muon_sip3d'] = np.divide( df_iso_4mu['Muon_ip3d'],np.sqrt(np.power(df_iso_4mu['Muon_dxyErr'],2) + np.power(df_iso_4mu['Muon_dzErr'],2)))\n",
        "df_uncer_4mu = df_iso_4mu.loc[(df_iso_4mu['Muon_sip3d']<4) & (np.abs(df_iso_4mu['Muon_dxy'])< 0.5)&(np.abs(df_iso_4mu['Muon_dz'])<1.0)].copy()\n",
        "\n",
        "#Nos aseguramos que solo quedan 4 muones en cada evento\n",
        "df_uncer_4mu['rnMuon'] = df_uncer_4mu.groupby(level = 0).run.transform('sum')\n",
        "\n",
        "#Se busca que hayan 4 muones, 2 con carga positiva y 2 con carga negativa\n",
        "df_uncer_4mu['Muon_Charge_Sum'] = df_uncer_4mu.groupby(level = 0).Muon_charge.transform('sum')\n",
        "df_filt_4mu = df_uncer_4mu.loc[(df_uncer_4mu['rnMuon']==4) & (df_uncer_4mu['Muon_Charge_Sum'] == 0.0)]"
      ],
      "metadata": {
        "id": "gMxf38UU2sZr"
      },
      "execution_count": null,
      "outputs": []
    },
    {
      "cell_type": "markdown",
      "source": [
        "## Segunda Fase: Se aparean los muones que son capaces de dar un boson Z\n"
      ],
      "metadata": {
        "id": "kcGuQdic6xlr"
      }
    },
    {
      "cell_type": "code",
      "source": [
        "#Definimos la función que calcula la masa a partir de 2 cuadrimomentums\n",
        "def calc_mass(pt1,eta1,phi1,mass1,pt2,eta2,phi2,mass2):\n",
        "  px1 = pt1*np.cos(phi1)\n",
        "  py1 = pt1*np.sin(phi1)\n",
        "  pz1 = pt1*np.sinh(eta1)\n",
        "  px2 = pt2*np.cos(phi2)\n",
        "  py2 = pt2*np.sin(phi2)\n",
        "  pz2 = pt2*np.sinh(eta2)\n",
        "  return np.sqrt(np.power((mass1 + mass2),2) + (np.power((px1 +px2),2) + np.power((py1 + py2),2) + np.power((pz1 + pz2),2)))\n",
        "\n",
        "#Realizamos una función que elije en cada evento el mejor par de muones que logran crear un Boson Z\n",
        "def best_Z(df):\n",
        "  mu_pt = df['Muon_pt'].reset_index(drop = True).to_numpy()\n",
        "  mu_eta = df['Muon_eta'].reset_index(drop = True).to_numpy()\n",
        "  mu_phi = df['Muon_phi'].reset_index(drop = True).to_numpy()\n",
        "  mu_mass = df['Muon_mass'].reset_index(drop = True).to_numpy()\n",
        "  mu_charge = df['Muon_charge'].reset_index(drop = True).to_numpy()\n",
        "  zmass = 91.2\n",
        "  bestmass = -1\n",
        "  idx=[0,0]\n",
        "  for i in range(0,mu_charge.size):\n",
        "    for j in range(i+1,mu_charge.size):\n",
        "      if(mu_charge[i] != mu_charge[j]):\n",
        "        thismass = calc_mass(mu_pt[i],mu_eta[i],mu_phi[i],mu_mass[i],mu_pt[j],mu_eta[j],mu_phi[j],mu_mass[j])\n",
        "        #print(thismass)\n",
        "        if(np.abs(zmass - thismass) < np.abs(zmass - bestmass)):\n",
        "          bestmass = thismass\n",
        "          idx[0] = i\n",
        "          idx[1] = j\n",
        "  idy = np.ones(mu_charge.size)\n",
        "  idy[idx[0]] = 0\n",
        "  idy[idx[1]] = 0\n",
        "  npidy = np.array(idy)\n",
        "  df = df.reset_index()\n",
        "  extra = pd.DataFrame(npidy,columns = ['Idx'])\n",
        "  final = pd.concat([df,extra], axis=1)\n",
        "  final.set_index(['entry','subentry'], drop = True, inplace = True)\n",
        "  return final"
      ],
      "metadata": {
        "id": "varxWTMB4T0K"
      },
      "execution_count": null,
      "outputs": []
    },
    {
      "cell_type": "code",
      "source": [
        "#Señalamos en una nueva columna cuáles son los mejores muones que logran crear un bosón Z\n",
        "df_bestZ_4mu = df_filt_4mu.groupby(level = 0).apply(best_Z)"
      ],
      "metadata": {
        "id": "i9uiUnBH7Q8I"
      },
      "execution_count": null,
      "outputs": []
    },
    {
      "cell_type": "markdown",
      "source": [
        "## Tercera Fase: eliminamos los muones que estan muy cercanos"
      ],
      "metadata": {
        "id": "yDni5d208npS"
      }
    },
    {
      "cell_type": "code",
      "source": [
        "#Creamos una función que calcule la diferencia en pseudorapidez y el ángulo entre 2 vectores\n",
        "def distance(df):\n",
        "  mu_eta = df['Muon_eta'].reset_index(drop = True).to_numpy()\n",
        "  mu_phi = df['Muon_phi'].reset_index(drop = True).to_numpy()\n",
        "  idx = df['Idx'].reset_index(drop = True).to_numpy()\n",
        "  dr = np.zeros(idx.size)\n",
        "  for i in range(0,idx.size):\n",
        "    for j in range(i+1, idx.size):\n",
        "      if(idx[i] == idx[j]):\n",
        "        delta_r = np.sqrt(np.power(mu_eta[i] + mu_eta[j],2) + np.power(mu_phi[i] + mu_phi[j],2))\n",
        "        dr[i] = delta_r\n",
        "        dr[j] = delta_r\n",
        "  df = df.reset_index()\n",
        "  extra = pd.DataFrame(dr,columns = ['Delta_R'])\n",
        "  final = pd.concat([df,extra], axis=1)\n",
        "  final.set_index(['entry','subentry'], drop = True, inplace = True)\n",
        "  return final"
      ],
      "metadata": {
        "id": "bK4tNSEE8fy6"
      },
      "execution_count": null,
      "outputs": []
    },
    {
      "cell_type": "code",
      "source": [
        "#Se eliminan los muones que son cercanos en pseudorapidez y ángulo\n",
        "df_deltaR_4mu = df_bestZ_4mu.groupby(level = 0).apply(distance)\n",
        "df_cut_deltaR_4mu = df_deltaR_4mu.loc[df_deltaR_4mu['Delta_R'] > 0.02].copy()\n",
        "\n",
        "#Nos aseguramos que solo quedan 4 muones en cada evento\n",
        "df_cut_deltaR_4mu['rrnMuon'] = df_cut_deltaR_4mu.groupby(level = 0).run.transform('sum')\n",
        "df_f_deltaR_4mu = df_cut_deltaR_4mu.loc[(df_cut_deltaR_4mu['rrnMuon']==4)].copy()"
      ],
      "metadata": {
        "id": "tvyYS3U89ap5"
      },
      "execution_count": null,
      "outputs": []
    },
    {
      "cell_type": "markdown",
      "source": [
        "## Cuarta Fase: Calculamos la masa de los bosones Z a partir de los muones"
      ],
      "metadata": {
        "id": "oAmaW_R7_iJz"
      }
    },
    {
      "cell_type": "code",
      "source": [
        "#Creamos una función para crear la masa de los bosones Z\n",
        "def create_Z(df):\n",
        "  mu_pt = df['Muon_pt'].reset_index(drop = True).to_numpy()\n",
        "  mu_eta = df['Muon_eta'].reset_index(drop = True).to_numpy()\n",
        "  mu_phi = df['Muon_phi'].reset_index(drop = True).to_numpy()\n",
        "  mu_mass = df['Muon_mass'].reset_index(drop = True).to_numpy()\n",
        "  idx = df['Idx'].reset_index(drop = True).to_numpy()\n",
        "  dz = np.zeros(idx.size)\n",
        "  for i in range(0,idx.size):\n",
        "    for j in range(i+1, idx.size):\n",
        "      if(idx[i] == idx[j]):\n",
        "        z_mass = calc_mass(mu_pt[i],mu_eta[i],mu_phi[i],mu_mass[i],mu_pt[j],mu_eta[j],mu_phi[j],mu_mass[j])\n",
        "        dz[i] = z_mass\n",
        "        dz[j] = z_mass\n",
        "  df = df.reset_index()\n",
        "  extra = pd.DataFrame(dz,columns = ['Z_mass'])\n",
        "  final = pd.concat([df,extra], axis=1)\n",
        "  final.set_index(['entry','subentry'], drop = True, inplace = True)\n",
        "  return final"
      ],
      "metadata": {
        "id": "FAOvUPOT9qK6"
      },
      "execution_count": null,
      "outputs": []
    },
    {
      "cell_type": "code",
      "source": [
        "#Aplicamos la función\n",
        "df_withZ_4mu = df_f_deltaR_4mu.groupby(level = 0).apply(create_Z)"
      ],
      "metadata": {
        "id": "STIM9pM7_ujw"
      },
      "execution_count": null,
      "outputs": []
    },
    {
      "cell_type": "markdown",
      "source": [
        "## Quinta Fase: Seleccionamos los eventos con candidatos de Z que pudieran formar el Boson de Higgs"
      ],
      "metadata": {
        "id": "82QLadLBAcoL"
      }
    },
    {
      "cell_type": "code",
      "source": [
        "#Eliminamos los eventos que no tienen bosones de Higgs en el rango (12,120)\n",
        "df_cutZ_4mu = df_withZ_4mu.loc[(df_withZ_4mu['Z_mass'] > 12) & (df_withZ_4mu['Z_mass'] < 120)].copy()\n",
        "\n",
        "#Nos aseguramos que solo quedan 4 muones en cada evento\n",
        "df_cutZ_4mu['rrrnMuon'] = df_cutZ_4mu.groupby(level = 0).run.transform('sum')\n",
        "df_cutZ_4mu = df_cutZ_4mu.loc[(df_cutZ_4mu['rrrnMuon']==4)]"
      ],
      "metadata": {
        "id": "IV8ue8XkAGUa"
      },
      "execution_count": null,
      "outputs": []
    },
    {
      "cell_type": "markdown",
      "source": [
        "## Sexta Fase: Recreamos la masa del Boson de Higgs a partir de los 4muones"
      ],
      "metadata": {
        "id": "3xblitmYBYpV"
      }
    },
    {
      "cell_type": "code",
      "source": [
        "#Realizamos una función que cálcule la masa del Boson de Higgs a partir de 4 leptones\n",
        "def calc_massH(pt1,eta1,phi1,mass1,pt2,eta2,phi2,mass2,pt3,eta3,phi3,mass3,pt4,eta4,phi4,mass4):\n",
        "  px1 = pt1*np.cos(phi1)\n",
        "  py1 = pt1*np.sin(phi1)\n",
        "  pz1 = pt1*np.sinh(eta1)\n",
        "  px2 = pt2*np.cos(phi2)\n",
        "  py2 = pt2*np.sin(phi2)\n",
        "  pz2 = pt2*np.sinh(eta2)\n",
        "  px3 = pt2*np.cos(phi2)\n",
        "  py3 = pt2*np.sin(phi2)\n",
        "  pz3 = pt2*np.sinh(eta2)\n",
        "  px4 = pt2*np.cos(phi2)\n",
        "  py4 = pt2*np.sin(phi2)\n",
        "  pz4 = pt2*np.sinh(eta2)\n",
        "  return np.sqrt(np.power((mass1 + mass2 + mass3 + mass4),2) + (np.power((px1 +px2 + px3 + px4),2) + np.power((py1 + py2 + py3 + py4),2) + np.power((pz1 + pz2 + pz3 + pz4),2)))\n",
        "\n",
        "#Hacemos la función para recrear la masa del Boson de Higgs\n",
        "def create_H(df):\n",
        "  mu_pt = df['Muon_pt'].reset_index(drop = True).to_numpy()\n",
        "  mu_eta = df['Muon_eta'].reset_index(drop = True).to_numpy()\n",
        "  mu_phi = df['Muon_phi'].reset_index(drop = True).to_numpy()\n",
        "  mu_mass = df['Muon_mass'].reset_index(drop = True).to_numpy()\n",
        "  idx = df['Idx'].reset_index(drop = True).to_numpy()\n",
        "  dH = np.ones(idx.size)\n",
        "  H_mass = calc_massH(mu_pt[0],mu_eta[0],mu_phi[0],mu_mass[0],mu_pt[1],mu_eta[1],mu_phi[1],mu_mass[1],mu_pt[2],mu_eta[2],mu_phi[2],mu_mass[2],mu_pt[3],mu_eta[3],mu_phi[3],mu_mass[3])\n",
        "  dH = dH * H_mass\n",
        "  df = df.reset_index()\n",
        "  extra = pd.DataFrame(dH,columns = ['H_mass'])\n",
        "  final = pd.concat([df,extra], axis=1)\n",
        "  final.set_index(['entry','subentry'], drop = True, inplace = True)\n",
        "  return final"
      ],
      "metadata": {
        "id": "6qTaQ2jZAad6"
      },
      "execution_count": null,
      "outputs": []
    },
    {
      "cell_type": "code",
      "source": [
        "#Colocamos los datos calculados en el DataFrame\n",
        "df_withH_4mu = df_cutZ_4mu.groupby(level = 0).apply(create_H)"
      ],
      "metadata": {
        "id": "frrPUJDuBoPY"
      },
      "execution_count": null,
      "outputs": []
    },
    {
      "cell_type": "markdown",
      "source": [
        "## Plot"
      ],
      "metadata": {
        "id": "kC0U8Q6QCyjL"
      }
    },
    {
      "cell_type": "code",
      "source": [
        "#Realizamos el Histograma\n",
        "df_withH_4mu['H_mass'].plot.hist(bins = 36)"
      ],
      "metadata": {
        "colab": {
          "base_uri": "https://localhost:8080/",
          "height": 282
        },
        "id": "wfR0hjHUCuMq",
        "outputId": "ff234189-6cb3-41d5-f981-59dc49d76b09"
      },
      "execution_count": null,
      "outputs": [
        {
          "output_type": "execute_result",
          "data": {
            "text/plain": [
              "<matplotlib.axes._subplots.AxesSubplot at 0x7f80c6e42390>"
            ]
          },
          "metadata": {},
          "execution_count": 103
        },
        {
          "output_type": "display_data",
          "data": {
            "text/plain": [
              "<Figure size 432x288 with 1 Axes>"
            ],
            "image/png": "[encoded data removed]"
          },
          "metadata": {
            "needs_background": "light"
          }
        }
      ]
    },
    {
      "cell_type": "code",
      "source": [
        ""
      ],
      "metadata": {
        "id": "fm2_bcN_C095"
      },
      "execution_count": null,
      "outputs": []
    }
  ]
}